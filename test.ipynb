{
 "cells": [
  {
   "cell_type": "code",
   "execution_count": 1,
   "metadata": {},
   "outputs": [],
   "source": [
    "# Plan for MPI:\n",
    "# Start MPI\n",
    "# Read the data only on rank==0\n",
    "# Broadcast data for other ranks\n",
    "# On a given rank: run_DS for a chunk of cluster+random\n",
    "# Code send the result to rank 0\n",
    "# Rank 0 writes the results"
   ]
  },
  {
   "cell_type": "code",
   "execution_count": 12,
   "metadata": {},
   "outputs": [],
   "source": [
    "import healpy as hp\n",
    "import h5py as h5"
   ]
  },
  {
   "cell_type": "code",
   "execution_count": 3,
   "metadata": {},
   "outputs": [],
   "source": [
    "from mpi4py import MPI\n",
    "\n",
    "comm = MPI.COMM_WORLD\n",
    "rank = comm.Get_rank()"
   ]
  },
  {
   "cell_type": "code",
   "execution_count": 5,
   "metadata": {},
   "outputs": [
    {
     "data": {
      "text/plain": [
       "array([0.45464871, 0.70807342, 0.54030231])"
      ]
     },
     "execution_count": 5,
     "metadata": {},
     "output_type": "execute_result"
    }
   ],
   "source": [
    "hp.ang2vec(1,1)"
   ]
  },
  {
   "cell_type": "code",
   "execution_count": 14,
   "metadata": {},
   "outputs": [],
   "source": [
    "master_cat = h5.File('/project/projectdirs/des/www/y3_cats/Y3_mastercat___UNBLIND___final_v1.1_12_22_20.h5','r')"
   ]
  },
  {
   "cell_type": "code",
   "execution_count": 24,
   "metadata": {},
   "outputs": [
    {
     "data": {
      "text/plain": [
       "<HDF5 dataset \"ra\": shape (19838,), type \">f8\">"
      ]
     },
     "execution_count": 24,
     "metadata": {},
     "output_type": "execute_result"
    }
   ],
   "source": [
    "master_cat['/catalog/redmapper/lgt20']['ra']"
   ]
  },
  {
   "cell_type": "code",
   "execution_count": 30,
   "metadata": {},
   "outputs": [
    {
     "name": "stdout",
     "output_type": "stream",
     "text": [
      "reading lenses and randoms took 1.19 seconds\n",
      "Start cutting source.\n",
      "reading and preparing source catalog took 251.20 seconds\n",
      "DS= [ 2.06187063e+02 -4.95247237e+02 -4.79951385e+01 -3.57495266e-01\n",
      " -8.25002273e+00 -6.53238237e+01  1.23346873e+01 -4.64027081e+01\n",
      " -2.10320356e+01  1.39656303e+01] time taken for calculating DSigma = 5.61 seconds\n"
     ]
    }
   ],
   "source": [
    "%pwd\n",
    "%run measure_shear.py 0.1 0.5 2 /global/cfs/cdirs/des/zhou/y3clshear/catalogs 20 100 0.1 10 10 dnf"
   ]
  },
  {
   "cell_type": "code",
   "execution_count": 1,
   "metadata": {},
   "outputs": [],
   "source": [
    "len_lens = 21652"
   ]
  },
  {
   "cell_type": "code",
   "execution_count": 2,
   "metadata": {},
   "outputs": [
    {
     "data": {
      "text/plain": [
       "108.26"
      ]
     },
     "execution_count": 2,
     "metadata": {},
     "output_type": "execute_result"
    }
   ],
   "source": [
    "21652/200"
   ]
  },
  {
   "cell_type": "code",
   "execution_count": null,
   "metadata": {},
   "outputs": [],
   "source": []
  }
 ],
 "metadata": {
  "kernelspec": {
   "display_name": "Python 3.10.4 ('y3clshear')",
   "language": "python",
   "name": "python3"
  },
  "language_info": {
   "codemirror_mode": {
    "name": "ipython",
    "version": 3
   },
   "file_extension": ".py",
   "mimetype": "text/x-python",
   "name": "python",
   "nbconvert_exporter": "python",
   "pygments_lexer": "ipython3",
   "version": "3.9.7"
  },
  "orig_nbformat": 4,
  "vscode": {
   "interpreter": {
    "hash": "555c586025480ce65825093e92957a33fb704518aca9ef3189577c7df600d2e6"
   }
  }
 },
 "nbformat": 4,
 "nbformat_minor": 2
}
